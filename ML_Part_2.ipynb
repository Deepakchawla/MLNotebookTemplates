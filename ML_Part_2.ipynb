{
 "cells": [
  {
   "cell_type": "markdown",
   "id": "35253a86",
   "metadata": {},
   "source": [
    "In this notebook we are load our preprocess data which we done in our previous part and now will train the model on different linear regression algorithms"
   ]
  },
  {
   "cell_type": "markdown",
   "id": "5a016e65",
   "metadata": {},
   "source": [
    "## Step 1: Import all the required libraries \n",
    "* __Pandas__ : In computer programming, pandas is a software library written for the Python programming language for data manipulation and analysis and storing in a proper way. In particular, it offers data structures and operations for manipulating numerical tables and time series\n",
    "* __Sklearn__ : Scikit-learn (formerly scikits.learn) is a free software machine learning library for the Python programming language. It features various classification, regression and clustering algorithms including support vector machines, random forests, gradient boosting, k-means and DBSCAN, and is designed to interoperate with the Python numerical and scientific libraries NumPy and SciPy. The library is built upon the SciPy (Scientific Python) that must be installed before you can use scikit-learn.\n",
    "* __Pickle__ : Python pickle module is used for serializing and de-serializing a Python object structure. Pickling is a way to convert a python object (list, dict, etc.) into a character stream. The idea is that this character stream contains all the information necessary to reconstruct the object in another python script.\n",
    "* __Seaborn__ : Seaborn is a Python data visualization library based on matplotlib. It provides a high-level interface for drawing attractive and informative statistical graphics."
   ]
  },
  {
   "cell_type": "code",
   "execution_count": 2,
   "id": "8336af28",
   "metadata": {
    "ExecuteTime": {
     "end_time": "2022-10-08T13:09:30.373311Z",
     "start_time": "2022-10-08T13:09:28.762479Z"
    }
   },
   "outputs": [],
   "source": [
    "# import all required libraries\n",
    "import numpy as np\n",
    "import pandas as pd\n",
    "from matplotlib.pyplot import figure\n",
    "import matplotlib.pyplot as plt\n",
    "from sklearn.metrics import mean_absolute_percentage_error\n",
    "from sklearn.metrics import mean_squared_error\n",
    "from sklearn.metrics import r2_score\n",
    "from sklearn.preprocessing import scale \n",
    "from sklearn.linear_model import LinearRegression, Ridge, RidgeCV, Lasso, LassoCV\n",
    "from sklearn.model_selection import KFold, cross_val_score, train_test_split\n",
    "from sklearn.metrics import mean_squared_error\n",
    "from sklearn.decomposition import PCA\n",
    "import pandas as pd\n",
    "import warnings\n",
    "from sklearn import preprocessing\n",
    "import seaborn as sns\n",
    "\n",
    "warnings.filterwarnings('ignore')"
   ]
  },
  {
   "cell_type": "code",
   "execution_count": 3,
   "id": "b4ef0d70",
   "metadata": {
    "ExecuteTime": {
     "end_time": "2022-10-08T13:09:30.481115Z",
     "start_time": "2022-10-08T13:09:30.379724Z"
    }
   },
   "outputs": [],
   "source": [
    "# Read preprocess csv file\n",
    "df = pd.read_csv('df2.csv')"
   ]
  },
  {
   "cell_type": "code",
   "execution_count": 4,
   "id": "57ab13ff",
   "metadata": {
    "ExecuteTime": {
     "end_time": "2022-10-08T13:09:31.089306Z",
     "start_time": "2022-10-08T13:09:31.069673Z"
    }
   },
   "outputs": [],
   "source": [
    "# Drop Unnamed: 0 column \n",
    "df = df.drop('Unnamed: 0',axis=1)"
   ]
  },
  {
   "cell_type": "code",
   "execution_count": 5,
   "id": "9f154a8f",
   "metadata": {
    "ExecuteTime": {
     "end_time": "2022-10-08T13:09:31.529846Z",
     "start_time": "2022-10-08T13:09:31.491550Z"
    }
   },
   "outputs": [
    {
     "data": {
      "text/html": [
       "<div>\n",
       "<style scoped>\n",
       "    .dataframe tbody tr th:only-of-type {\n",
       "        vertical-align: middle;\n",
       "    }\n",
       "\n",
       "    .dataframe tbody tr th {\n",
       "        vertical-align: top;\n",
       "    }\n",
       "\n",
       "    .dataframe thead th {\n",
       "        text-align: right;\n",
       "    }\n",
       "</style>\n",
       "<table border=\"1\" class=\"dataframe\">\n",
       "  <thead>\n",
       "    <tr style=\"text-align: right;\">\n",
       "      <th></th>\n",
       "      <th>production_line_number</th>\n",
       "      <th>feature_c</th>\n",
       "      <th>feature_2701</th>\n",
       "      <th>feature_2801</th>\n",
       "      <th>feature_2901</th>\n",
       "      <th>feature_3001</th>\n",
       "      <th>feature_3101</th>\n",
       "      <th>feature_3201</th>\n",
       "      <th>feature_3601</th>\n",
       "      <th>feature_46801</th>\n",
       "      <th>...</th>\n",
       "      <th>LTPB</th>\n",
       "      <th>LTPW</th>\n",
       "      <th>LTSB</th>\n",
       "      <th>S3PB</th>\n",
       "      <th>S3PW</th>\n",
       "      <th>T3CA</th>\n",
       "      <th>T3HS</th>\n",
       "      <th>T3M3</th>\n",
       "      <th>T3MA</th>\n",
       "      <th>T3MS</th>\n",
       "    </tr>\n",
       "  </thead>\n",
       "  <tbody>\n",
       "    <tr>\n",
       "      <th>0</th>\n",
       "      <td>1</td>\n",
       "      <td>1</td>\n",
       "      <td>3</td>\n",
       "      <td>0</td>\n",
       "      <td>0</td>\n",
       "      <td>0</td>\n",
       "      <td>0</td>\n",
       "      <td>0</td>\n",
       "      <td>0</td>\n",
       "      <td>2</td>\n",
       "      <td>...</td>\n",
       "      <td>1.0</td>\n",
       "      <td>0.0</td>\n",
       "      <td>0.0</td>\n",
       "      <td>1.0</td>\n",
       "      <td>0.0</td>\n",
       "      <td>0.0</td>\n",
       "      <td>1.0</td>\n",
       "      <td>0.0</td>\n",
       "      <td>0.0</td>\n",
       "      <td>0.0</td>\n",
       "    </tr>\n",
       "    <tr>\n",
       "      <th>1</th>\n",
       "      <td>1</td>\n",
       "      <td>1</td>\n",
       "      <td>10</td>\n",
       "      <td>0</td>\n",
       "      <td>1</td>\n",
       "      <td>0</td>\n",
       "      <td>0</td>\n",
       "      <td>0</td>\n",
       "      <td>0</td>\n",
       "      <td>1</td>\n",
       "      <td>...</td>\n",
       "      <td>1.0</td>\n",
       "      <td>0.0</td>\n",
       "      <td>0.0</td>\n",
       "      <td>1.0</td>\n",
       "      <td>0.0</td>\n",
       "      <td>0.0</td>\n",
       "      <td>0.0</td>\n",
       "      <td>0.0</td>\n",
       "      <td>0.0</td>\n",
       "      <td>1.0</td>\n",
       "    </tr>\n",
       "    <tr>\n",
       "      <th>2</th>\n",
       "      <td>1</td>\n",
       "      <td>1</td>\n",
       "      <td>8</td>\n",
       "      <td>0</td>\n",
       "      <td>0</td>\n",
       "      <td>0</td>\n",
       "      <td>0</td>\n",
       "      <td>0</td>\n",
       "      <td>0</td>\n",
       "      <td>1</td>\n",
       "      <td>...</td>\n",
       "      <td>1.0</td>\n",
       "      <td>0.0</td>\n",
       "      <td>0.0</td>\n",
       "      <td>1.0</td>\n",
       "      <td>0.0</td>\n",
       "      <td>0.0</td>\n",
       "      <td>0.0</td>\n",
       "      <td>0.0</td>\n",
       "      <td>0.0</td>\n",
       "      <td>1.0</td>\n",
       "    </tr>\n",
       "    <tr>\n",
       "      <th>3</th>\n",
       "      <td>3</td>\n",
       "      <td>2</td>\n",
       "      <td>12</td>\n",
       "      <td>0</td>\n",
       "      <td>2</td>\n",
       "      <td>0</td>\n",
       "      <td>0</td>\n",
       "      <td>0</td>\n",
       "      <td>1</td>\n",
       "      <td>2</td>\n",
       "      <td>...</td>\n",
       "      <td>1.0</td>\n",
       "      <td>0.0</td>\n",
       "      <td>0.0</td>\n",
       "      <td>1.0</td>\n",
       "      <td>0.0</td>\n",
       "      <td>0.0</td>\n",
       "      <td>0.0</td>\n",
       "      <td>0.0</td>\n",
       "      <td>0.0</td>\n",
       "      <td>1.0</td>\n",
       "    </tr>\n",
       "    <tr>\n",
       "      <th>4</th>\n",
       "      <td>3</td>\n",
       "      <td>2</td>\n",
       "      <td>11</td>\n",
       "      <td>1</td>\n",
       "      <td>2</td>\n",
       "      <td>0</td>\n",
       "      <td>0</td>\n",
       "      <td>0</td>\n",
       "      <td>0</td>\n",
       "      <td>2</td>\n",
       "      <td>...</td>\n",
       "      <td>1.0</td>\n",
       "      <td>0.0</td>\n",
       "      <td>0.0</td>\n",
       "      <td>1.0</td>\n",
       "      <td>0.0</td>\n",
       "      <td>0.0</td>\n",
       "      <td>0.0</td>\n",
       "      <td>0.0</td>\n",
       "      <td>0.0</td>\n",
       "      <td>1.0</td>\n",
       "    </tr>\n",
       "  </tbody>\n",
       "</table>\n",
       "<p>5 rows × 54 columns</p>\n",
       "</div>"
      ],
      "text/plain": [
       "   production_line_number  feature_c  feature_2701  feature_2801  \\\n",
       "0                       1          1             3             0   \n",
       "1                       1          1            10             0   \n",
       "2                       1          1             8             0   \n",
       "3                       3          2            12             0   \n",
       "4                       3          2            11             1   \n",
       "\n",
       "   feature_2901  feature_3001  feature_3101  feature_3201  feature_3601  \\\n",
       "0             0             0             0             0             0   \n",
       "1             1             0             0             0             0   \n",
       "2             0             0             0             0             0   \n",
       "3             2             0             0             0             1   \n",
       "4             2             0             0             0             0   \n",
       "\n",
       "   feature_46801  ...  LTPB  LTPW  LTSB  S3PB  S3PW  T3CA  T3HS  T3M3  T3MA  \\\n",
       "0              2  ...   1.0   0.0   0.0   1.0   0.0   0.0   1.0   0.0   0.0   \n",
       "1              1  ...   1.0   0.0   0.0   1.0   0.0   0.0   0.0   0.0   0.0   \n",
       "2              1  ...   1.0   0.0   0.0   1.0   0.0   0.0   0.0   0.0   0.0   \n",
       "3              2  ...   1.0   0.0   0.0   1.0   0.0   0.0   0.0   0.0   0.0   \n",
       "4              2  ...   1.0   0.0   0.0   1.0   0.0   0.0   0.0   0.0   0.0   \n",
       "\n",
       "   T3MS  \n",
       "0   0.0  \n",
       "1   1.0  \n",
       "2   1.0  \n",
       "3   1.0  \n",
       "4   1.0  \n",
       "\n",
       "[5 rows x 54 columns]"
      ]
     },
     "execution_count": 5,
     "metadata": {},
     "output_type": "execute_result"
    }
   ],
   "source": [
    "# View first 5 rows\n",
    "df.head()"
   ]
  },
  {
   "cell_type": "markdown",
   "id": "593f88fe",
   "metadata": {},
   "source": [
    "# Step 2: Data Preparation"
   ]
  },
  {
   "cell_type": "markdown",
   "id": "7cf0a8d4",
   "metadata": {},
   "source": [
    "### Goal:- "
   ]
  },
  {
   "cell_type": "markdown",
   "id": "0b88d519",
   "metadata": {},
   "source": [
    "Tasks we are going to in this step"
   ]
  },
  {
   "cell_type": "markdown",
   "id": "f0907a7b",
   "metadata": {},
   "source": [
    "1. Now we spearate the target variable and feature columns in two different dataframe and will check the shape of the dataset for validation purpose.\n",
    "2. Split dataset into train and test dataset\n",
    "3. Scaling on train dataset "
   ]
  },
  {
   "cell_type": "markdown",
   "id": "1b9aaa72",
   "metadata": {},
   "source": [
    "#### 1. Now we spearate the target variable and feature columns in two different dataframe and will check the shape of the dataset for validation purpose.\n"
   ]
  },
  {
   "cell_type": "code",
   "execution_count": 6,
   "id": "957687e5",
   "metadata": {
    "ExecuteTime": {
     "end_time": "2022-10-08T13:09:34.464671Z",
     "start_time": "2022-10-08T13:09:34.454641Z"
    }
   },
   "outputs": [],
   "source": [
    "# Spearate target and feature column in X and y variable\n",
    "target = 'days'\n",
    "X = df.drop(target,axis=1)\n",
    "y = df[target]"
   ]
  },
  {
   "cell_type": "code",
   "execution_count": 7,
   "id": "165ca861",
   "metadata": {
    "ExecuteTime": {
     "end_time": "2022-10-08T13:09:35.197456Z",
     "start_time": "2022-10-08T13:09:35.189959Z"
    }
   },
   "outputs": [
    {
     "data": {
      "text/plain": [
       "((27435, 53), (27435,))"
      ]
     },
     "execution_count": 7,
     "metadata": {},
     "output_type": "execute_result"
    }
   ],
   "source": [
    "# Check the shape of X and y variable\n",
    "X.shape, y.shape\n"
   ]
  },
  {
   "cell_type": "code",
   "execution_count": 8,
   "id": "68141a8a",
   "metadata": {
    "ExecuteTime": {
     "end_time": "2022-10-08T13:09:35.435600Z",
     "start_time": "2022-10-08T13:09:35.431115Z"
    }
   },
   "outputs": [],
   "source": [
    "# Reshape the y variable \n",
    "y = y.values.reshape(-1,1)\n"
   ]
  },
  {
   "cell_type": "code",
   "execution_count": 9,
   "id": "be70e6e1",
   "metadata": {
    "ExecuteTime": {
     "end_time": "2022-10-08T13:09:35.650108Z",
     "start_time": "2022-10-08T13:09:35.644653Z"
    }
   },
   "outputs": [
    {
     "data": {
      "text/plain": [
       "((27435, 53), (27435, 1))"
      ]
     },
     "execution_count": 9,
     "metadata": {},
     "output_type": "execute_result"
    }
   ],
   "source": [
    "# Again check the shape of X and y variable\n",
    "X.shape, y.shape\n"
   ]
  },
  {
   "cell_type": "markdown",
   "id": "414962ae",
   "metadata": {},
   "source": [
    "#### 2. Split dataset into train and test dataset"
   ]
  },
  {
   "cell_type": "markdown",
   "id": "2155835b",
   "metadata": {},
   "source": [
    "Here we are spliting our dataset into 80/20 percentage where 80% dataset goes into the training and 20% goes into testing the part."
   ]
  },
  {
   "cell_type": "code",
   "execution_count": 10,
   "id": "2b42fcf2",
   "metadata": {
    "ExecuteTime": {
     "end_time": "2022-10-08T13:09:37.581703Z",
     "start_time": "2022-10-08T13:09:37.556002Z"
    }
   },
   "outputs": [],
   "source": [
    "# Split the X and y into X_train, X_test, y_train, y_test variables with 80-20% split.\n",
    "X_train, X_test, y_train, y_test = train_test_split(X, y, test_size=0.2, random_state=42)"
   ]
  },
  {
   "cell_type": "code",
   "execution_count": 11,
   "id": "ab1091a8",
   "metadata": {
    "ExecuteTime": {
     "end_time": "2022-10-08T13:09:37.772943Z",
     "start_time": "2022-10-08T13:09:37.768224Z"
    }
   },
   "outputs": [
    {
     "data": {
      "text/plain": [
       "((21948, 53), (5487, 53), (21948, 1), (5487, 1))"
      ]
     },
     "execution_count": 11,
     "metadata": {},
     "output_type": "execute_result"
    }
   ],
   "source": [
    "# Check shape of the splitted variables\n",
    "X_train.shape, X_test.shape, y_train.shape, y_test.shape"
   ]
  },
  {
   "cell_type": "markdown",
   "id": "3c3a672b",
   "metadata": {},
   "source": [
    "# Step 3: Model Training"
   ]
  },
  {
   "cell_type": "markdown",
   "id": "d2535eb8",
   "metadata": {},
   "source": [
    "#### Goal:- In this step we are going to train our dataset on different linear regression algorithms. As we know that our target variable is in continous format so we have to apply linear regression algoritms."
   ]
  },
  {
   "cell_type": "markdown",
   "id": "4dfc5f07",
   "metadata": {},
   "source": [
    "Algorithms we are going to use in this step.\n",
    "\n",
    "1. Linear Regression (no regularization)\n",
    "2. Lasso Regression (L1 regularization)\n",
    "3. Ridge Regression (L2 regularization)\n",
    "4. Principal Components Regression"
   ]
  },
  {
   "cell_type": "markdown",
   "id": "ef81964e",
   "metadata": {},
   "source": [
    "#### Define cross-validation folds\n"
   ]
  },
  {
   "cell_type": "code",
   "execution_count": 12,
   "id": "ed00e4bc",
   "metadata": {
    "ExecuteTime": {
     "end_time": "2022-10-08T13:09:40.052123Z",
     "start_time": "2022-10-08T13:09:40.046588Z"
    }
   },
   "outputs": [],
   "source": [
    "# Define kfold with 10 split\n",
    "cv = KFold(n_splits=10, shuffle=True, random_state=42)"
   ]
  },
  {
   "cell_type": "markdown",
   "id": "625dc98f",
   "metadata": {},
   "source": [
    "### (1) Linear Regression (no regularization)"
   ]
  },
  {
   "cell_type": "markdown",
   "id": "82e3fbcb",
   "metadata": {},
   "source": [
    "#### Train set cross-validation"
   ]
  },
  {
   "cell_type": "code",
   "execution_count": 13,
   "id": "026cd8b5",
   "metadata": {
    "ExecuteTime": {
     "end_time": "2022-10-08T13:09:40.619043Z",
     "start_time": "2022-10-08T13:09:40.612207Z"
    }
   },
   "outputs": [],
   "source": [
    "# define linear regression model object\n",
    "lin_reg = LinearRegression()"
   ]
  },
  {
   "cell_type": "code",
   "execution_count": 14,
   "id": "81521b73",
   "metadata": {
    "ExecuteTime": {
     "end_time": "2022-10-08T13:09:40.945758Z",
     "start_time": "2022-10-08T13:09:40.810806Z"
    }
   },
   "outputs": [],
   "source": [
    "# train or fit train dataset on linear regression model\n",
    "lin_reg = lin_reg.fit(X_train, y_train)"
   ]
  },
  {
   "cell_type": "code",
   "execution_count": 15,
   "id": "271fa685",
   "metadata": {
    "ExecuteTime": {
     "end_time": "2022-10-08T13:09:41.061519Z",
     "start_time": "2022-10-08T13:09:41.024197Z"
    }
   },
   "outputs": [
    {
     "data": {
      "text/plain": [
       "0.06486601918072854"
      ]
     },
     "execution_count": 15,
     "metadata": {},
     "output_type": "execute_result"
    }
   ],
   "source": [
    "# Get R2 score\n",
    "lin_reg.score(X_train, y_train)"
   ]
  },
  {
   "cell_type": "code",
   "execution_count": 16,
   "id": "a7c44b3f",
   "metadata": {
    "ExecuteTime": {
     "end_time": "2022-10-08T13:09:42.367277Z",
     "start_time": "2022-10-08T13:09:41.175843Z"
    }
   },
   "outputs": [
    {
     "data": {
      "text/plain": [
       "array([1.02647231, 0.86092873, 1.13082939, 0.8969278 , 0.85596016,\n",
       "       0.92049552, 1.2095036 , 0.95872458, 0.89111964, 1.09306426])"
      ]
     },
     "execution_count": 16,
     "metadata": {},
     "output_type": "execute_result"
    }
   ],
   "source": [
    "# get kfold values\n",
    "lr_scores = -1 * cross_val_score(lin_reg, \n",
    "                                 X_train, \n",
    "                                 y_train, \n",
    "                                 cv=cv, \n",
    "                                 scoring='neg_root_mean_squared_error')\n",
    "lr_scores"
   ]
  },
  {
   "cell_type": "code",
   "execution_count": 17,
   "id": "9446a010",
   "metadata": {
    "ExecuteTime": {
     "end_time": "2022-10-08T13:09:42.491953Z",
     "start_time": "2022-10-08T13:09:42.488818Z"
    }
   },
   "outputs": [
    {
     "data": {
      "text/plain": [
       "0.9844025999181122"
      ]
     },
     "execution_count": 17,
     "metadata": {},
     "output_type": "execute_result"
    }
   ],
   "source": [
    "# mean of the train kfold scores\n",
    "lr_score_train = np.mean(lr_scores)\n",
    "lr_score_train"
   ]
  },
  {
   "cell_type": "markdown",
   "id": "82e1877f",
   "metadata": {},
   "source": [
    "#### Predict"
   ]
  },
  {
   "cell_type": "code",
   "execution_count": 18,
   "id": "480e33c2",
   "metadata": {
    "ExecuteTime": {
     "end_time": "2022-10-08T13:09:42.536517Z",
     "start_time": "2022-10-08T13:09:42.532421Z"
    }
   },
   "outputs": [],
   "source": [
    "# predict the values on X_test_scaled dataset \n",
    "y_predicted = lin_reg.predict(X_test)\n"
   ]
  },
  {
   "cell_type": "code",
   "execution_count": 19,
   "id": "f73908bc",
   "metadata": {
    "ExecuteTime": {
     "end_time": "2022-10-08T13:09:42.602974Z",
     "start_time": "2022-10-08T13:09:42.596205Z"
    }
   },
   "outputs": [
    {
     "data": {
      "text/plain": [
       "1.75617101221471"
      ]
     },
     "execution_count": 19,
     "metadata": {},
     "output_type": "execute_result"
    }
   ],
   "source": [
    "# RMSE between y_test and y_predicted values\n",
    "lr_score_test = mean_squared_error(y_test, y_predicted, squared=False) # RMSE instead of MSE\n",
    "lr_score_test"
   ]
  },
  {
   "cell_type": "code",
   "execution_count": 20,
   "id": "35c678c0",
   "metadata": {
    "ExecuteTime": {
     "end_time": "2022-10-08T13:09:42.806585Z",
     "start_time": "2022-10-08T13:09:42.667880Z"
    }
   },
   "outputs": [
    {
     "data": {
      "image/png": "[encoded data removed]",
      "text/plain": [
       "<Figure size 640x480 with 1 Axes>"
      ]
     },
     "metadata": {},
     "output_type": "display_data"
    }
   ],
   "source": [
    "# scatter plot between y_test and y_predicted values\n",
    "plt.scatter(y_test, y_predicted)\n",
    "plt.show()"
   ]
  },
  {
   "cell_type": "code",
   "execution_count": 21,
   "id": "966df06c",
   "metadata": {
    "ExecuteTime": {
     "end_time": "2022-10-08T13:09:42.942563Z",
     "start_time": "2022-10-08T13:09:42.851418Z"
    }
   },
   "outputs": [
    {
     "data": {
      "image/png": "[encoded data removed]",
      "text/plain": [
       "<Figure size 640x480 with 1 Axes>"
      ]
     },
     "metadata": {},
     "output_type": "display_data"
    }
   ],
   "source": [
    "# histogram between y_test and y_predicted values\n",
    "plt.hist(y_test - y_predicted)\n",
    "plt.show()"
   ]
  },
  {
   "cell_type": "code",
   "execution_count": 22,
   "id": "62713aa2",
   "metadata": {
    "ExecuteTime": {
     "end_time": "2022-10-08T13:09:44.111198Z",
     "start_time": "2022-10-08T13:09:43.538989Z"
    }
   },
   "outputs": [
    {
     "data": {
      "image/png": "[encoded data removed]",
      "text/plain": [
       "<Figure size 640x480 with 1 Axes>"
      ]
     },
     "metadata": {},
     "output_type": "display_data"
    }
   ],
   "source": [
    "# fit graph between y_test and y_predicted values\n",
    "plt.plot(X_test, y_test,'.')\n",
    "plt.plot(X_test, y_predicted,'-')\n",
    "plt.show()"
   ]
  },
  {
   "cell_type": "markdown",
   "id": "7d7aa8f8",
   "metadata": {},
   "source": [
    "## (2) Lasso Regression (L1 regularization)"
   ]
  },
  {
   "cell_type": "markdown",
   "id": "f94c532a",
   "metadata": {},
   "source": [
    "#### Train set cross-validation"
   ]
  },
  {
   "cell_type": "code",
   "execution_count": 23,
   "id": "2d5d9f63",
   "metadata": {
    "ExecuteTime": {
     "end_time": "2022-10-08T13:09:48.924781Z",
     "start_time": "2022-10-08T13:09:48.918452Z"
    }
   },
   "outputs": [],
   "source": [
    "# define lasso regression model object\n",
    "lasso_reg = LassoCV()"
   ]
  },
  {
   "cell_type": "code",
   "execution_count": 24,
   "id": "00579a24",
   "metadata": {
    "ExecuteTime": {
     "end_time": "2022-10-08T13:09:49.693783Z",
     "start_time": "2022-10-08T13:09:49.144897Z"
    }
   },
   "outputs": [],
   "source": [
    "# train or fit train dataset on lasso regression model\n",
    "lasso_reg = lasso_reg.fit(X_train, y_train)"
   ]
  },
  {
   "cell_type": "code",
   "execution_count": 25,
   "id": "3760ebf3",
   "metadata": {
    "ExecuteTime": {
     "end_time": "2022-10-08T13:09:49.804720Z",
     "start_time": "2022-10-08T13:09:49.779036Z"
    }
   },
   "outputs": [
    {
     "data": {
      "text/plain": [
       "0.06106205488159833"
      ]
     },
     "execution_count": 25,
     "metadata": {},
     "output_type": "execute_result"
    }
   ],
   "source": [
    "# Get R2 score\n",
    "lasso_reg.score(X_train, y_train)"
   ]
  },
  {
   "cell_type": "code",
   "execution_count": 26,
   "id": "fef4b9b0",
   "metadata": {
    "ExecuteTime": {
     "end_time": "2022-10-08T13:09:54.633579Z",
     "start_time": "2022-10-08T13:09:49.882396Z"
    }
   },
   "outputs": [
    {
     "data": {
      "text/plain": [
       "array([1.02653674, 0.86309297, 1.13249505, 0.89873771, 0.85878966,\n",
       "       0.91714833, 1.21130334, 0.96114233, 0.89196771, 1.0966079 ])"
      ]
     },
     "execution_count": 26,
     "metadata": {},
     "output_type": "execute_result"
    }
   ],
   "source": [
    "# get kfold values\n",
    "lasso_scores = -1 * cross_val_score(lasso_reg, \n",
    "                                    X_train, \n",
    "                                    y_train, \n",
    "                                    cv=cv, \n",
    "                                    scoring='neg_root_mean_squared_error')\n",
    "lasso_scores"
   ]
  },
  {
   "cell_type": "code",
   "execution_count": 27,
   "id": "d4876b28",
   "metadata": {
    "ExecuteTime": {
     "end_time": "2022-10-08T13:09:54.746244Z",
     "start_time": "2022-10-08T13:09:54.742453Z"
    }
   },
   "outputs": [
    {
     "data": {
      "text/plain": [
       "0.9857821730413188"
      ]
     },
     "execution_count": 27,
     "metadata": {},
     "output_type": "execute_result"
    }
   ],
   "source": [
    "# mean of the train kfold scores\n",
    "lasso_score_train = np.mean(lasso_scores)\n",
    "lasso_score_train"
   ]
  },
  {
   "cell_type": "markdown",
   "id": "8c8a486a",
   "metadata": {},
   "source": [
    "#### Predict"
   ]
  },
  {
   "cell_type": "code",
   "execution_count": 28,
   "id": "fc6503d6",
   "metadata": {
    "ExecuteTime": {
     "end_time": "2022-10-08T13:09:54.796797Z",
     "start_time": "2022-10-08T13:09:54.788862Z"
    }
   },
   "outputs": [],
   "source": [
    "# predict the values on X_test_scaled dataset \n",
    "y_predicted = lasso_reg.predict(X_test)\n"
   ]
  },
  {
   "cell_type": "code",
   "execution_count": 29,
   "id": "e4f4e9f2",
   "metadata": {
    "ExecuteTime": {
     "end_time": "2022-10-08T13:09:54.869961Z",
     "start_time": "2022-10-08T13:09:54.865522Z"
    }
   },
   "outputs": [
    {
     "data": {
      "text/plain": [
       "1.7594036035647007"
      ]
     },
     "execution_count": 29,
     "metadata": {},
     "output_type": "execute_result"
    }
   ],
   "source": [
    "# RMSE between y_test and y_predicted values\n",
    "lasso_score_test = mean_squared_error(y_test, y_predicted, squared=False)\n",
    "lasso_score_test"
   ]
  },
  {
   "cell_type": "code",
   "execution_count": 30,
   "id": "51b668d1",
   "metadata": {
    "ExecuteTime": {
     "end_time": "2022-10-08T13:09:55.049591Z",
     "start_time": "2022-10-08T13:09:54.924239Z"
    }
   },
   "outputs": [
    {
     "data": {
      "image/png": "[encoded data removed]",
      "text/plain": [
       "<Figure size 640x480 with 1 Axes>"
      ]
     },
     "metadata": {},
     "output_type": "display_data"
    }
   ],
   "source": [
    "# scatter plot between y_test and y_predicted values\n",
    "plt.scatter(y_test, y_predicted)\n",
    "plt.show()"
   ]
  },
  {
   "cell_type": "code",
   "execution_count": 31,
   "id": "fc357f0b",
   "metadata": {
    "ExecuteTime": {
     "end_time": "2022-10-08T13:10:32.138678Z",
     "start_time": "2022-10-08T13:09:55.095920Z"
    }
   },
   "outputs": [
    {
     "name": "stderr",
     "output_type": "stream",
     "text": [
      "\n",
      "KeyboardInterrupt\n",
      "\n"
     ]
    },
    {
     "name": "stdout",
     "output_type": "stream",
     "text": [
      "Error in callback <function flush_figures at 0x7f9be8f85280> (for post_execute):\n"
     ]
    },
    {
     "ename": "KeyboardInterrupt",
     "evalue": "",
     "output_type": "error",
     "traceback": [
      "\u001b[0;31m---------------------------------------------------------------------------\u001b[0m",
      "\u001b[0;31mKeyboardInterrupt\u001b[0m                         Traceback (most recent call last)",
      "File \u001b[0;32m~/project2env/lib/python3.8/site-packages/matplotlib_inline/backend_inline.py:126\u001b[0m, in \u001b[0;36mflush_figures\u001b[0;34m()\u001b[0m\n\u001b[1;32m    123\u001b[0m \u001b[38;5;28;01mif\u001b[39;00m InlineBackend\u001b[38;5;241m.\u001b[39minstance()\u001b[38;5;241m.\u001b[39mclose_figures:\n\u001b[1;32m    124\u001b[0m     \u001b[38;5;66;03m# ignore the tracking, just draw and close all figures\u001b[39;00m\n\u001b[1;32m    125\u001b[0m     \u001b[38;5;28;01mtry\u001b[39;00m:\n\u001b[0;32m--> 126\u001b[0m         \u001b[38;5;28;01mreturn\u001b[39;00m \u001b[43mshow\u001b[49m\u001b[43m(\u001b[49m\u001b[38;5;28;43;01mTrue\u001b[39;49;00m\u001b[43m)\u001b[49m\n\u001b[1;32m    127\u001b[0m     \u001b[38;5;28;01mexcept\u001b[39;00m \u001b[38;5;167;01mException\u001b[39;00m \u001b[38;5;28;01mas\u001b[39;00m e:\n\u001b[1;32m    128\u001b[0m         \u001b[38;5;66;03m# safely show traceback if in IPython, else raise\u001b[39;00m\n\u001b[1;32m    129\u001b[0m         ip \u001b[38;5;241m=\u001b[39m get_ipython()\n",
      "File \u001b[0;32m~/project2env/lib/python3.8/site-packages/matplotlib_inline/backend_inline.py:90\u001b[0m, in \u001b[0;36mshow\u001b[0;34m(close, block)\u001b[0m\n\u001b[1;32m     88\u001b[0m \u001b[38;5;28;01mtry\u001b[39;00m:\n\u001b[1;32m     89\u001b[0m     \u001b[38;5;28;01mfor\u001b[39;00m figure_manager \u001b[38;5;129;01min\u001b[39;00m Gcf\u001b[38;5;241m.\u001b[39mget_all_fig_managers():\n\u001b[0;32m---> 90\u001b[0m         \u001b[43mdisplay\u001b[49m\u001b[43m(\u001b[49m\n\u001b[1;32m     91\u001b[0m \u001b[43m            \u001b[49m\u001b[43mfigure_manager\u001b[49m\u001b[38;5;241;43m.\u001b[39;49m\u001b[43mcanvas\u001b[49m\u001b[38;5;241;43m.\u001b[39;49m\u001b[43mfigure\u001b[49m\u001b[43m,\u001b[49m\n\u001b[1;32m     92\u001b[0m \u001b[43m            \u001b[49m\u001b[43mmetadata\u001b[49m\u001b[38;5;241;43m=\u001b[39;49m\u001b[43m_fetch_figure_metadata\u001b[49m\u001b[43m(\u001b[49m\u001b[43mfigure_manager\u001b[49m\u001b[38;5;241;43m.\u001b[39;49m\u001b[43mcanvas\u001b[49m\u001b[38;5;241;43m.\u001b[39;49m\u001b[43mfigure\u001b[49m\u001b[43m)\u001b[49m\n\u001b[1;32m     93\u001b[0m \u001b[43m        \u001b[49m\u001b[43m)\u001b[49m\n\u001b[1;32m     94\u001b[0m \u001b[38;5;28;01mfinally\u001b[39;00m:\n\u001b[1;32m     95\u001b[0m     show\u001b[38;5;241m.\u001b[39m_to_draw \u001b[38;5;241m=\u001b[39m []\n",
      "File \u001b[0;32m~/project2env/lib/python3.8/site-packages/IPython/core/display_functions.py:298\u001b[0m, in \u001b[0;36mdisplay\u001b[0;34m(include, exclude, metadata, transient, display_id, raw, clear, *objs, **kwargs)\u001b[0m\n\u001b[1;32m    296\u001b[0m     publish_display_data(data\u001b[38;5;241m=\u001b[39mobj, metadata\u001b[38;5;241m=\u001b[39mmetadata, \u001b[38;5;241m*\u001b[39m\u001b[38;5;241m*\u001b[39mkwargs)\n\u001b[1;32m    297\u001b[0m \u001b[38;5;28;01melse\u001b[39;00m:\n\u001b[0;32m--> 298\u001b[0m     format_dict, md_dict \u001b[38;5;241m=\u001b[39m \u001b[38;5;28;43mformat\u001b[39;49m\u001b[43m(\u001b[49m\u001b[43mobj\u001b[49m\u001b[43m,\u001b[49m\u001b[43m \u001b[49m\u001b[43minclude\u001b[49m\u001b[38;5;241;43m=\u001b[39;49m\u001b[43minclude\u001b[49m\u001b[43m,\u001b[49m\u001b[43m \u001b[49m\u001b[43mexclude\u001b[49m\u001b[38;5;241;43m=\u001b[39;49m\u001b[43mexclude\u001b[49m\u001b[43m)\u001b[49m\n\u001b[1;32m    299\u001b[0m     \u001b[38;5;28;01mif\u001b[39;00m \u001b[38;5;129;01mnot\u001b[39;00m format_dict:\n\u001b[1;32m    300\u001b[0m         \u001b[38;5;66;03m# nothing to display (e.g. _ipython_display_ took over)\u001b[39;00m\n\u001b[1;32m    301\u001b[0m         \u001b[38;5;28;01mcontinue\u001b[39;00m\n",
      "File \u001b[0;32m~/project2env/lib/python3.8/site-packages/IPython/core/formatters.py:178\u001b[0m, in \u001b[0;36mDisplayFormatter.format\u001b[0;34m(self, obj, include, exclude)\u001b[0m\n\u001b[1;32m    176\u001b[0m md \u001b[38;5;241m=\u001b[39m \u001b[38;5;28;01mNone\u001b[39;00m\n\u001b[1;32m    177\u001b[0m \u001b[38;5;28;01mtry\u001b[39;00m:\n\u001b[0;32m--> 178\u001b[0m     data \u001b[38;5;241m=\u001b[39m \u001b[43mformatter\u001b[49m\u001b[43m(\u001b[49m\u001b[43mobj\u001b[49m\u001b[43m)\u001b[49m\n\u001b[1;32m    179\u001b[0m \u001b[38;5;28;01mexcept\u001b[39;00m:\n\u001b[1;32m    180\u001b[0m     \u001b[38;5;66;03m# FIXME: log the exception\u001b[39;00m\n\u001b[1;32m    181\u001b[0m     \u001b[38;5;28;01mraise\u001b[39;00m\n",
      "File \u001b[0;32m~/project2env/lib/python3.8/site-packages/decorator.py:232\u001b[0m, in \u001b[0;36mdecorate.<locals>.fun\u001b[0;34m(*args, **kw)\u001b[0m\n\u001b[1;32m    230\u001b[0m \u001b[38;5;28;01mif\u001b[39;00m \u001b[38;5;129;01mnot\u001b[39;00m kwsyntax:\n\u001b[1;32m    231\u001b[0m     args, kw \u001b[38;5;241m=\u001b[39m fix(args, kw, sig)\n\u001b[0;32m--> 232\u001b[0m \u001b[38;5;28;01mreturn\u001b[39;00m \u001b[43mcaller\u001b[49m\u001b[43m(\u001b[49m\u001b[43mfunc\u001b[49m\u001b[43m,\u001b[49m\u001b[43m \u001b[49m\u001b[38;5;241;43m*\u001b[39;49m\u001b[43m(\u001b[49m\u001b[43mextras\u001b[49m\u001b[43m \u001b[49m\u001b[38;5;241;43m+\u001b[39;49m\u001b[43m \u001b[49m\u001b[43margs\u001b[49m\u001b[43m)\u001b[49m\u001b[43m,\u001b[49m\u001b[43m \u001b[49m\u001b[38;5;241;43m*\u001b[39;49m\u001b[38;5;241;43m*\u001b[39;49m\u001b[43mkw\u001b[49m\u001b[43m)\u001b[49m\n",
      "File \u001b[0;32m~/project2env/lib/python3.8/site-packages/IPython/core/formatters.py:222\u001b[0m, in \u001b[0;36mcatch_format_error\u001b[0;34m(method, self, *args, **kwargs)\u001b[0m\n\u001b[1;32m    220\u001b[0m \u001b[38;5;124;03m\"\"\"show traceback on failed format call\"\"\"\u001b[39;00m\n\u001b[1;32m    221\u001b[0m \u001b[38;5;28;01mtry\u001b[39;00m:\n\u001b[0;32m--> 222\u001b[0m     r \u001b[38;5;241m=\u001b[39m \u001b[43mmethod\u001b[49m\u001b[43m(\u001b[49m\u001b[38;5;28;43mself\u001b[39;49m\u001b[43m,\u001b[49m\u001b[43m \u001b[49m\u001b[38;5;241;43m*\u001b[39;49m\u001b[43margs\u001b[49m\u001b[43m,\u001b[49m\u001b[43m \u001b[49m\u001b[38;5;241;43m*\u001b[39;49m\u001b[38;5;241;43m*\u001b[39;49m\u001b[43mkwargs\u001b[49m\u001b[43m)\u001b[49m\n\u001b[1;32m    223\u001b[0m \u001b[38;5;28;01mexcept\u001b[39;00m \u001b[38;5;167;01mNotImplementedError\u001b[39;00m:\n\u001b[1;32m    224\u001b[0m     \u001b[38;5;66;03m# don't warn on NotImplementedErrors\u001b[39;00m\n\u001b[1;32m    225\u001b[0m     \u001b[38;5;28;01mreturn\u001b[39;00m \u001b[38;5;28mself\u001b[39m\u001b[38;5;241m.\u001b[39m_check_return(\u001b[38;5;28;01mNone\u001b[39;00m, args[\u001b[38;5;241m0\u001b[39m])\n",
      "File \u001b[0;32m~/project2env/lib/python3.8/site-packages/IPython/core/formatters.py:339\u001b[0m, in \u001b[0;36mBaseFormatter.__call__\u001b[0;34m(self, obj)\u001b[0m\n\u001b[1;32m    337\u001b[0m     \u001b[38;5;28;01mpass\u001b[39;00m\n\u001b[1;32m    338\u001b[0m \u001b[38;5;28;01melse\u001b[39;00m:\n\u001b[0;32m--> 339\u001b[0m     \u001b[38;5;28;01mreturn\u001b[39;00m \u001b[43mprinter\u001b[49m\u001b[43m(\u001b[49m\u001b[43mobj\u001b[49m\u001b[43m)\u001b[49m\n\u001b[1;32m    340\u001b[0m \u001b[38;5;66;03m# Finally look for special method names\u001b[39;00m\n\u001b[1;32m    341\u001b[0m method \u001b[38;5;241m=\u001b[39m get_real_method(obj, \u001b[38;5;28mself\u001b[39m\u001b[38;5;241m.\u001b[39mprint_method)\n",
      "File \u001b[0;32m~/project2env/lib/python3.8/site-packages/IPython/core/pylabtools.py:151\u001b[0m, in \u001b[0;36mprint_figure\u001b[0;34m(fig, fmt, bbox_inches, base64, **kwargs)\u001b[0m\n\u001b[1;32m    148\u001b[0m     \u001b[38;5;28;01mfrom\u001b[39;00m \u001b[38;5;21;01mmatplotlib\u001b[39;00m\u001b[38;5;21;01m.\u001b[39;00m\u001b[38;5;21;01mbackend_bases\u001b[39;00m \u001b[38;5;28;01mimport\u001b[39;00m FigureCanvasBase\n\u001b[1;32m    149\u001b[0m     FigureCanvasBase(fig)\n\u001b[0;32m--> 151\u001b[0m \u001b[43mfig\u001b[49m\u001b[38;5;241;43m.\u001b[39;49m\u001b[43mcanvas\u001b[49m\u001b[38;5;241;43m.\u001b[39;49m\u001b[43mprint_figure\u001b[49m\u001b[43m(\u001b[49m\u001b[43mbytes_io\u001b[49m\u001b[43m,\u001b[49m\u001b[43m \u001b[49m\u001b[38;5;241;43m*\u001b[39;49m\u001b[38;5;241;43m*\u001b[39;49m\u001b[43mkw\u001b[49m\u001b[43m)\u001b[49m\n\u001b[1;32m    152\u001b[0m data \u001b[38;5;241m=\u001b[39m bytes_io\u001b[38;5;241m.\u001b[39mgetvalue()\n\u001b[1;32m    153\u001b[0m \u001b[38;5;28;01mif\u001b[39;00m fmt \u001b[38;5;241m==\u001b[39m \u001b[38;5;124m'\u001b[39m\u001b[38;5;124msvg\u001b[39m\u001b[38;5;124m'\u001b[39m:\n",
      "File \u001b[0;32m~/project2env/lib/python3.8/site-packages/matplotlib/backend_bases.py:2314\u001b[0m, in \u001b[0;36mFigureCanvasBase.print_figure\u001b[0;34m(self, filename, dpi, facecolor, edgecolor, orientation, format, bbox_inches, pad_inches, bbox_extra_artists, backend, **kwargs)\u001b[0m\n\u001b[1;32m   2308\u001b[0m     renderer \u001b[38;5;241m=\u001b[39m _get_renderer(\n\u001b[1;32m   2309\u001b[0m         \u001b[38;5;28mself\u001b[39m\u001b[38;5;241m.\u001b[39mfigure,\n\u001b[1;32m   2310\u001b[0m         functools\u001b[38;5;241m.\u001b[39mpartial(\n\u001b[1;32m   2311\u001b[0m             print_method, orientation\u001b[38;5;241m=\u001b[39morientation)\n\u001b[1;32m   2312\u001b[0m     )\n\u001b[1;32m   2313\u001b[0m     \u001b[38;5;28;01mwith\u001b[39;00m \u001b[38;5;28mgetattr\u001b[39m(renderer, \u001b[38;5;124m\"\u001b[39m\u001b[38;5;124m_draw_disabled\u001b[39m\u001b[38;5;124m\"\u001b[39m, nullcontext)():\n\u001b[0;32m-> 2314\u001b[0m         \u001b[38;5;28;43mself\u001b[39;49m\u001b[38;5;241;43m.\u001b[39;49m\u001b[43mfigure\u001b[49m\u001b[38;5;241;43m.\u001b[39;49m\u001b[43mdraw\u001b[49m\u001b[43m(\u001b[49m\u001b[43mrenderer\u001b[49m\u001b[43m)\u001b[49m\n\u001b[1;32m   2316\u001b[0m \u001b[38;5;28;01mif\u001b[39;00m bbox_inches:\n\u001b[1;32m   2317\u001b[0m     \u001b[38;5;28;01mif\u001b[39;00m bbox_inches \u001b[38;5;241m==\u001b[39m \u001b[38;5;124m\"\u001b[39m\u001b[38;5;124mtight\u001b[39m\u001b[38;5;124m\"\u001b[39m:\n",
      "File \u001b[0;32m~/project2env/lib/python3.8/site-packages/matplotlib/artist.py:74\u001b[0m, in \u001b[0;36m_finalize_rasterization.<locals>.draw_wrapper\u001b[0;34m(artist, renderer, *args, **kwargs)\u001b[0m\n\u001b[1;32m     72\u001b[0m \u001b[38;5;129m@wraps\u001b[39m(draw)\n\u001b[1;32m     73\u001b[0m \u001b[38;5;28;01mdef\u001b[39;00m \u001b[38;5;21mdraw_wrapper\u001b[39m(artist, renderer, \u001b[38;5;241m*\u001b[39margs, \u001b[38;5;241m*\u001b[39m\u001b[38;5;241m*\u001b[39mkwargs):\n\u001b[0;32m---> 74\u001b[0m     result \u001b[38;5;241m=\u001b[39m \u001b[43mdraw\u001b[49m\u001b[43m(\u001b[49m\u001b[43martist\u001b[49m\u001b[43m,\u001b[49m\u001b[43m \u001b[49m\u001b[43mrenderer\u001b[49m\u001b[43m,\u001b[49m\u001b[43m \u001b[49m\u001b[38;5;241;43m*\u001b[39;49m\u001b[43margs\u001b[49m\u001b[43m,\u001b[49m\u001b[43m \u001b[49m\u001b[38;5;241;43m*\u001b[39;49m\u001b[38;5;241;43m*\u001b[39;49m\u001b[43mkwargs\u001b[49m\u001b[43m)\u001b[49m\n\u001b[1;32m     75\u001b[0m     \u001b[38;5;28;01mif\u001b[39;00m renderer\u001b[38;5;241m.\u001b[39m_rasterizing:\n\u001b[1;32m     76\u001b[0m         renderer\u001b[38;5;241m.\u001b[39mstop_rasterizing()\n",
      "File \u001b[0;32m~/project2env/lib/python3.8/site-packages/matplotlib/artist.py:51\u001b[0m, in \u001b[0;36mallow_rasterization.<locals>.draw_wrapper\u001b[0;34m(artist, renderer)\u001b[0m\n\u001b[1;32m     48\u001b[0m     \u001b[38;5;28;01mif\u001b[39;00m artist\u001b[38;5;241m.\u001b[39mget_agg_filter() \u001b[38;5;129;01mis\u001b[39;00m \u001b[38;5;129;01mnot\u001b[39;00m \u001b[38;5;28;01mNone\u001b[39;00m:\n\u001b[1;32m     49\u001b[0m         renderer\u001b[38;5;241m.\u001b[39mstart_filter()\n\u001b[0;32m---> 51\u001b[0m     \u001b[38;5;28;01mreturn\u001b[39;00m \u001b[43mdraw\u001b[49m\u001b[43m(\u001b[49m\u001b[43martist\u001b[49m\u001b[43m,\u001b[49m\u001b[43m \u001b[49m\u001b[43mrenderer\u001b[49m\u001b[43m)\u001b[49m\n\u001b[1;32m     52\u001b[0m \u001b[38;5;28;01mfinally\u001b[39;00m:\n\u001b[1;32m     53\u001b[0m     \u001b[38;5;28;01mif\u001b[39;00m artist\u001b[38;5;241m.\u001b[39mget_agg_filter() \u001b[38;5;129;01mis\u001b[39;00m \u001b[38;5;129;01mnot\u001b[39;00m \u001b[38;5;28;01mNone\u001b[39;00m:\n",
      "File \u001b[0;32m~/project2env/lib/python3.8/site-packages/matplotlib/figure.py:3069\u001b[0m, in \u001b[0;36mFigure.draw\u001b[0;34m(self, renderer)\u001b[0m\n\u001b[1;32m   3066\u001b[0m         \u001b[38;5;66;03m# ValueError can occur when resizing a window.\u001b[39;00m\n\u001b[1;32m   3068\u001b[0m \u001b[38;5;28mself\u001b[39m\u001b[38;5;241m.\u001b[39mpatch\u001b[38;5;241m.\u001b[39mdraw(renderer)\n\u001b[0;32m-> 3069\u001b[0m \u001b[43mmimage\u001b[49m\u001b[38;5;241;43m.\u001b[39;49m\u001b[43m_draw_list_compositing_images\u001b[49m\u001b[43m(\u001b[49m\n\u001b[1;32m   3070\u001b[0m \u001b[43m    \u001b[49m\u001b[43mrenderer\u001b[49m\u001b[43m,\u001b[49m\u001b[43m \u001b[49m\u001b[38;5;28;43mself\u001b[39;49m\u001b[43m,\u001b[49m\u001b[43m \u001b[49m\u001b[43martists\u001b[49m\u001b[43m,\u001b[49m\u001b[43m \u001b[49m\u001b[38;5;28;43mself\u001b[39;49m\u001b[38;5;241;43m.\u001b[39;49m\u001b[43msuppressComposite\u001b[49m\u001b[43m)\u001b[49m\n\u001b[1;32m   3072\u001b[0m \u001b[38;5;28;01mfor\u001b[39;00m sfig \u001b[38;5;129;01min\u001b[39;00m \u001b[38;5;28mself\u001b[39m\u001b[38;5;241m.\u001b[39msubfigs:\n\u001b[1;32m   3073\u001b[0m     sfig\u001b[38;5;241m.\u001b[39mdraw(renderer)\n",
      "File \u001b[0;32m~/project2env/lib/python3.8/site-packages/matplotlib/image.py:131\u001b[0m, in \u001b[0;36m_draw_list_compositing_images\u001b[0;34m(renderer, parent, artists, suppress_composite)\u001b[0m\n\u001b[1;32m    129\u001b[0m \u001b[38;5;28;01mif\u001b[39;00m not_composite \u001b[38;5;129;01mor\u001b[39;00m \u001b[38;5;129;01mnot\u001b[39;00m has_images:\n\u001b[1;32m    130\u001b[0m     \u001b[38;5;28;01mfor\u001b[39;00m a \u001b[38;5;129;01min\u001b[39;00m artists:\n\u001b[0;32m--> 131\u001b[0m         \u001b[43ma\u001b[49m\u001b[38;5;241;43m.\u001b[39;49m\u001b[43mdraw\u001b[49m\u001b[43m(\u001b[49m\u001b[43mrenderer\u001b[49m\u001b[43m)\u001b[49m\n\u001b[1;32m    132\u001b[0m \u001b[38;5;28;01melse\u001b[39;00m:\n\u001b[1;32m    133\u001b[0m     \u001b[38;5;66;03m# Composite any adjacent images together\u001b[39;00m\n\u001b[1;32m    134\u001b[0m     image_group \u001b[38;5;241m=\u001b[39m []\n",
      "File \u001b[0;32m~/project2env/lib/python3.8/site-packages/matplotlib/artist.py:51\u001b[0m, in \u001b[0;36mallow_rasterization.<locals>.draw_wrapper\u001b[0;34m(artist, renderer)\u001b[0m\n\u001b[1;32m     48\u001b[0m     \u001b[38;5;28;01mif\u001b[39;00m artist\u001b[38;5;241m.\u001b[39mget_agg_filter() \u001b[38;5;129;01mis\u001b[39;00m \u001b[38;5;129;01mnot\u001b[39;00m \u001b[38;5;28;01mNone\u001b[39;00m:\n\u001b[1;32m     49\u001b[0m         renderer\u001b[38;5;241m.\u001b[39mstart_filter()\n\u001b[0;32m---> 51\u001b[0m     \u001b[38;5;28;01mreturn\u001b[39;00m \u001b[43mdraw\u001b[49m\u001b[43m(\u001b[49m\u001b[43martist\u001b[49m\u001b[43m,\u001b[49m\u001b[43m \u001b[49m\u001b[43mrenderer\u001b[49m\u001b[43m)\u001b[49m\n\u001b[1;32m     52\u001b[0m \u001b[38;5;28;01mfinally\u001b[39;00m:\n\u001b[1;32m     53\u001b[0m     \u001b[38;5;28;01mif\u001b[39;00m artist\u001b[38;5;241m.\u001b[39mget_agg_filter() \u001b[38;5;129;01mis\u001b[39;00m \u001b[38;5;129;01mnot\u001b[39;00m \u001b[38;5;28;01mNone\u001b[39;00m:\n",
      "File \u001b[0;32m~/project2env/lib/python3.8/site-packages/matplotlib/axes/_base.py:3106\u001b[0m, in \u001b[0;36m_AxesBase.draw\u001b[0;34m(self, renderer)\u001b[0m\n\u001b[1;32m   3103\u001b[0m         a\u001b[38;5;241m.\u001b[39mdraw(renderer)\n\u001b[1;32m   3104\u001b[0m     renderer\u001b[38;5;241m.\u001b[39mstop_rasterizing()\n\u001b[0;32m-> 3106\u001b[0m \u001b[43mmimage\u001b[49m\u001b[38;5;241;43m.\u001b[39;49m\u001b[43m_draw_list_compositing_images\u001b[49m\u001b[43m(\u001b[49m\n\u001b[1;32m   3107\u001b[0m \u001b[43m    \u001b[49m\u001b[43mrenderer\u001b[49m\u001b[43m,\u001b[49m\u001b[43m \u001b[49m\u001b[38;5;28;43mself\u001b[39;49m\u001b[43m,\u001b[49m\u001b[43m \u001b[49m\u001b[43martists\u001b[49m\u001b[43m,\u001b[49m\u001b[43m \u001b[49m\u001b[38;5;28;43mself\u001b[39;49m\u001b[38;5;241;43m.\u001b[39;49m\u001b[43mfigure\u001b[49m\u001b[38;5;241;43m.\u001b[39;49m\u001b[43msuppressComposite\u001b[49m\u001b[43m)\u001b[49m\n\u001b[1;32m   3109\u001b[0m renderer\u001b[38;5;241m.\u001b[39mclose_group(\u001b[38;5;124m'\u001b[39m\u001b[38;5;124maxes\u001b[39m\u001b[38;5;124m'\u001b[39m)\n\u001b[1;32m   3110\u001b[0m \u001b[38;5;28mself\u001b[39m\u001b[38;5;241m.\u001b[39mstale \u001b[38;5;241m=\u001b[39m \u001b[38;5;28;01mFalse\u001b[39;00m\n",
      "File \u001b[0;32m~/project2env/lib/python3.8/site-packages/matplotlib/image.py:131\u001b[0m, in \u001b[0;36m_draw_list_compositing_images\u001b[0;34m(renderer, parent, artists, suppress_composite)\u001b[0m\n\u001b[1;32m    129\u001b[0m \u001b[38;5;28;01mif\u001b[39;00m not_composite \u001b[38;5;129;01mor\u001b[39;00m \u001b[38;5;129;01mnot\u001b[39;00m has_images:\n\u001b[1;32m    130\u001b[0m     \u001b[38;5;28;01mfor\u001b[39;00m a \u001b[38;5;129;01min\u001b[39;00m artists:\n\u001b[0;32m--> 131\u001b[0m         \u001b[43ma\u001b[49m\u001b[38;5;241;43m.\u001b[39;49m\u001b[43mdraw\u001b[49m\u001b[43m(\u001b[49m\u001b[43mrenderer\u001b[49m\u001b[43m)\u001b[49m\n\u001b[1;32m    132\u001b[0m \u001b[38;5;28;01melse\u001b[39;00m:\n\u001b[1;32m    133\u001b[0m     \u001b[38;5;66;03m# Composite any adjacent images together\u001b[39;00m\n\u001b[1;32m    134\u001b[0m     image_group \u001b[38;5;241m=\u001b[39m []\n",
      "File \u001b[0;32m~/project2env/lib/python3.8/site-packages/matplotlib/artist.py:51\u001b[0m, in \u001b[0;36mallow_rasterization.<locals>.draw_wrapper\u001b[0;34m(artist, renderer)\u001b[0m\n\u001b[1;32m     48\u001b[0m     \u001b[38;5;28;01mif\u001b[39;00m artist\u001b[38;5;241m.\u001b[39mget_agg_filter() \u001b[38;5;129;01mis\u001b[39;00m \u001b[38;5;129;01mnot\u001b[39;00m \u001b[38;5;28;01mNone\u001b[39;00m:\n\u001b[1;32m     49\u001b[0m         renderer\u001b[38;5;241m.\u001b[39mstart_filter()\n\u001b[0;32m---> 51\u001b[0m     \u001b[38;5;28;01mreturn\u001b[39;00m \u001b[43mdraw\u001b[49m\u001b[43m(\u001b[49m\u001b[43martist\u001b[49m\u001b[43m,\u001b[49m\u001b[43m \u001b[49m\u001b[43mrenderer\u001b[49m\u001b[43m)\u001b[49m\n\u001b[1;32m     52\u001b[0m \u001b[38;5;28;01mfinally\u001b[39;00m:\n\u001b[1;32m     53\u001b[0m     \u001b[38;5;28;01mif\u001b[39;00m artist\u001b[38;5;241m.\u001b[39mget_agg_filter() \u001b[38;5;129;01mis\u001b[39;00m \u001b[38;5;129;01mnot\u001b[39;00m \u001b[38;5;28;01mNone\u001b[39;00m:\n",
      "File \u001b[0;32m~/project2env/lib/python3.8/site-packages/matplotlib/patches.py:589\u001b[0m, in \u001b[0;36mPatch.draw\u001b[0;34m(self, renderer)\u001b[0m\n\u001b[1;32m    587\u001b[0m tpath \u001b[38;5;241m=\u001b[39m transform\u001b[38;5;241m.\u001b[39mtransform_path_non_affine(path)\n\u001b[1;32m    588\u001b[0m affine \u001b[38;5;241m=\u001b[39m transform\u001b[38;5;241m.\u001b[39mget_affine()\n\u001b[0;32m--> 589\u001b[0m \u001b[38;5;28;43mself\u001b[39;49m\u001b[38;5;241;43m.\u001b[39;49m\u001b[43m_draw_paths_with_artist_properties\u001b[49m(\n\u001b[1;32m    590\u001b[0m     renderer,\n\u001b[1;32m    591\u001b[0m     [(tpath, affine,\n\u001b[1;32m    592\u001b[0m       \u001b[38;5;66;03m# Work around a bug in the PDF and SVG renderers, which\u001b[39;00m\n\u001b[1;32m    593\u001b[0m       \u001b[38;5;66;03m# do not draw the hatches if the facecolor is fully\u001b[39;00m\n\u001b[1;32m    594\u001b[0m       \u001b[38;5;66;03m# transparent, but do if it is None.\u001b[39;00m\n\u001b[1;32m    595\u001b[0m       \u001b[38;5;28mself\u001b[39m\u001b[38;5;241m.\u001b[39m_facecolor \u001b[38;5;28;01mif\u001b[39;00m \u001b[38;5;28mself\u001b[39m\u001b[38;5;241m.\u001b[39m_facecolor[\u001b[38;5;241m3\u001b[39m] \u001b[38;5;28;01melse\u001b[39;00m \u001b[38;5;28;01mNone\u001b[39;00m)])\n",
      "\u001b[0;31mKeyboardInterrupt\u001b[0m: "
     ]
    }
   ],
   "source": [
    "# histogram between y_test and y_predicted values\n",
    "plt.hist(y_test - y_predicted)\n",
    "plt.show()"
   ]
  },
  {
   "cell_type": "code",
   "execution_count": null,
   "id": "1e3b1372",
   "metadata": {
    "ExecuteTime": {
     "end_time": "2022-10-08T13:10:32.141431Z",
     "start_time": "2022-10-08T13:10:32.141420Z"
    }
   },
   "outputs": [],
   "source": [
    "# fit graph between y_test and y_predicted values\n",
    "plt.plot(X_test, y_test,'.')\n",
    "plt.plot(X_test, y_predicted,'-')\n",
    "plt.show()"
   ]
  },
  {
   "cell_type": "markdown",
   "id": "688fa848",
   "metadata": {},
   "source": [
    "### (3) Ridge Regression (L2 regularization)"
   ]
  },
  {
   "cell_type": "markdown",
   "id": "3cb211dd",
   "metadata": {},
   "source": [
    "#### Train set cross-validation"
   ]
  },
  {
   "cell_type": "code",
   "execution_count": 36,
   "id": "5370bcfa",
   "metadata": {
    "ExecuteTime": {
     "end_time": "2022-09-13T14:31:26.554512Z",
     "start_time": "2022-09-13T14:31:26.552361Z"
    }
   },
   "outputs": [],
   "source": [
    "# define Ridge regression model object\n",
    "ridge_reg = RidgeCV()"
   ]
  },
  {
   "cell_type": "code",
   "execution_count": 37,
   "id": "f2fcfd89",
   "metadata": {
    "ExecuteTime": {
     "end_time": "2022-09-13T14:31:26.701218Z",
     "start_time": "2022-09-13T14:31:26.627191Z"
    }
   },
   "outputs": [],
   "source": [
    "# train or fit train dataset on linear regression model\n",
    "ridge_reg = ridge_reg.fit(X_train, y_train)"
   ]
  },
  {
   "cell_type": "code",
   "execution_count": 38,
   "id": "6fc0f3f4",
   "metadata": {
    "ExecuteTime": {
     "end_time": "2022-09-13T14:31:26.837113Z",
     "start_time": "2022-09-13T14:31:26.828859Z"
    }
   },
   "outputs": [
    {
     "data": {
      "text/plain": [
       "0.06478227068543618"
      ]
     },
     "execution_count": 38,
     "metadata": {},
     "output_type": "execute_result"
    }
   ],
   "source": [
    "# Get R2 score\n",
    "ridge_reg.score(X_train, y_train)"
   ]
  },
  {
   "cell_type": "code",
   "execution_count": 39,
   "id": "560cfe01",
   "metadata": {
    "ExecuteTime": {
     "end_time": "2022-09-13T14:31:27.905751Z",
     "start_time": "2022-09-13T14:31:26.941769Z"
    }
   },
   "outputs": [
    {
     "data": {
      "text/plain": [
       "array([1.026268  , 0.86076538, 1.13056814, 0.89695713, 0.85591314,\n",
       "       0.9200135 , 1.20929823, 0.95892485, 0.89091402, 1.09327528])"
      ]
     },
     "execution_count": 39,
     "metadata": {},
     "output_type": "execute_result"
    }
   ],
   "source": [
    "# get kfold values\n",
    "ridge_scores = -1 * cross_val_score(ridge_reg, \n",
    "                                    X_train, \n",
    "                                    y_train, \n",
    "                                    cv=cv, \n",
    "                                    scoring='neg_root_mean_squared_error')\n",
    "ridge_scores"
   ]
  },
  {
   "cell_type": "code",
   "execution_count": 40,
   "id": "9c7afb3b",
   "metadata": {
    "ExecuteTime": {
     "end_time": "2022-09-13T14:31:28.048376Z",
     "start_time": "2022-09-13T14:31:28.045521Z"
    }
   },
   "outputs": [
    {
     "data": {
      "text/plain": [
       "0.9842897665991673"
      ]
     },
     "execution_count": 40,
     "metadata": {},
     "output_type": "execute_result"
    }
   ],
   "source": [
    "# mean of the train kfold scores\n",
    "ridge_score_train = np.mean(ridge_scores)\n",
    "ridge_score_train"
   ]
  },
  {
   "cell_type": "markdown",
   "id": "bb8a5fd0",
   "metadata": {},
   "source": [
    "#### Predict"
   ]
  },
  {
   "cell_type": "code",
   "execution_count": 41,
   "id": "dc0912a7",
   "metadata": {
    "ExecuteTime": {
     "end_time": "2022-09-13T14:31:28.128275Z",
     "start_time": "2022-09-13T14:31:28.123002Z"
    }
   },
   "outputs": [],
   "source": [
    "# predict the values on X_test_scaled dataset \n",
    "y_predicted = ridge_reg.predict(X_test)"
   ]
  },
  {
   "cell_type": "code",
   "execution_count": 42,
   "id": "653d8749",
   "metadata": {
    "ExecuteTime": {
     "end_time": "2022-09-13T14:31:28.241452Z",
     "start_time": "2022-09-13T14:31:28.237716Z"
    }
   },
   "outputs": [
    {
     "data": {
      "text/plain": [
       "1.7565733889519428"
      ]
     },
     "execution_count": 42,
     "metadata": {},
     "output_type": "execute_result"
    }
   ],
   "source": [
    "# RMSE between y_test and y_predicted values\n",
    "ridge_score_test = mean_squared_error(y_test, y_predicted, squared=False)\n",
    "ridge_score_test"
   ]
  },
  {
   "cell_type": "code",
   "execution_count": 43,
   "id": "25704bb7",
   "metadata": {
    "ExecuteTime": {
     "end_time": "2022-09-13T14:31:28.409983Z",
     "start_time": "2022-09-13T14:31:28.314564Z"
    }
   },
   "outputs": [
    {
     "data": {
      "image/png": "[encoded data removed]",
      "text/plain": [
       "<Figure size 640x480 with 1 Axes>"
      ]
     },
     "metadata": {},
     "output_type": "display_data"
    }
   ],
   "source": [
    "# scatter plot between y_test and y_predicted values\n",
    "plt.scatter(y_test, y_predicted)\n",
    "plt.show()"
   ]
  },
  {
   "cell_type": "code",
   "execution_count": 44,
   "id": "74d8cae8",
   "metadata": {
    "ExecuteTime": {
     "end_time": "2022-09-13T14:31:28.583211Z",
     "start_time": "2022-09-13T14:31:28.493241Z"
    }
   },
   "outputs": [
    {
     "data": {
      "image/png": "[encoded data removed]",
      "text/plain": [
       "<Figure size 640x480 with 1 Axes>"
      ]
     },
     "metadata": {},
     "output_type": "display_data"
    }
   ],
   "source": [
    "# histogram between y_test and y_predicted values\n",
    "plt.hist(y_test - y_predicted)\n",
    "plt.show()"
   ]
  },
  {
   "cell_type": "code",
   "execution_count": 45,
   "id": "91a75509",
   "metadata": {
    "ExecuteTime": {
     "end_time": "2022-09-13T14:31:29.209620Z",
     "start_time": "2022-09-13T14:31:28.656176Z"
    }
   },
   "outputs": [
    {
     "data": {
      "image/png": "[encoded data removed]",
      "text/plain": [
       "<Figure size 640x480 with 1 Axes>"
      ]
     },
     "metadata": {},
     "output_type": "display_data"
    }
   ],
   "source": [
    "# fit graph between y_test and y_predicted values\n",
    "plt.plot(X_test, y_test,'.')\n",
    "plt.plot(X_test, y_predicted,'-')\n",
    "plt.show()"
   ]
  },
  {
   "cell_type": "markdown",
   "id": "5e230eef",
   "metadata": {},
   "source": [
    "### (4) Principal Components Regression"
   ]
  },
  {
   "cell_type": "markdown",
   "id": "a742cc4a",
   "metadata": {},
   "source": [
    "#### Evaluate for different number of principal components"
   ]
  },
  {
   "cell_type": "code",
   "execution_count": 47,
   "id": "900cf52f",
   "metadata": {
    "ExecuteTime": {
     "end_time": "2022-09-13T14:31:49.522236Z",
     "start_time": "2022-09-13T14:31:49.517683Z"
    }
   },
   "outputs": [],
   "source": [
    "lin_reg = LinearRegression()\n",
    "rmse_list = []"
   ]
  },
  {
   "cell_type": "code",
   "execution_count": 48,
   "id": "876ec69f",
   "metadata": {
    "ExecuteTime": {
     "end_time": "2022-09-13T14:31:50.121620Z",
     "start_time": "2022-09-13T14:31:50.062174Z"
    }
   },
   "outputs": [
    {
     "data": {
      "text/plain": [
       "(21948, 53)"
      ]
     },
     "execution_count": 48,
     "metadata": {},
     "output_type": "execute_result"
    }
   ],
   "source": [
    "# First generate all the principal components\n",
    "pca = PCA()\n",
    "X_train_pc = pca.fit_transform(X_train)\n",
    "X_train_pc.shape"
   ]
  },
  {
   "cell_type": "code",
   "execution_count": 49,
   "id": "24c15c57",
   "metadata": {
    "ExecuteTime": {
     "end_time": "2022-09-13T14:31:50.826992Z",
     "start_time": "2022-09-13T14:31:50.814853Z"
    }
   },
   "outputs": [
    {
     "data": {
      "text/plain": [
       "array([9.54058268e-01, 3.31793995e-02, 3.92351852e-03, 1.64736251e-03,\n",
       "       9.13323435e-04, 6.82974600e-04, 5.99398899e-04, 5.83729797e-04,\n",
       "       5.47514950e-04, 5.38582480e-04, 5.11158982e-04, 4.11707111e-04,\n",
       "       3.35680809e-04, 3.09066930e-04, 2.66453551e-04, 2.44407386e-04,\n",
       "       1.97168116e-04, 1.60265342e-04, 1.49311669e-04, 1.32447027e-04,\n",
       "       1.27281030e-04, 1.16235562e-04, 1.04478988e-04, 7.26690871e-05,\n",
       "       6.94563533e-05, 5.67569787e-05, 1.82274990e-05, 1.38849386e-05,\n",
       "       1.18155654e-05, 7.84311877e-06, 6.44304633e-06, 2.65348815e-06,\n",
       "       3.43086366e-07, 1.71269962e-07, 1.88154817e-31, 5.36919928e-33,\n",
       "       5.36919928e-33, 5.36919928e-33, 5.36919928e-33, 5.36919928e-33,\n",
       "       5.36919928e-33, 5.36919928e-33, 5.36919928e-33, 5.36919928e-33,\n",
       "       5.36919928e-33, 5.36919928e-33, 5.36919928e-33, 5.36919928e-33,\n",
       "       5.36919928e-33, 5.36919928e-33, 5.36919928e-33, 5.36919928e-33,\n",
       "       5.36919928e-33])"
      ]
     },
     "execution_count": 49,
     "metadata": {},
     "output_type": "execute_result"
    }
   ],
   "source": [
    "# View explained variance ratio for each principal component\n",
    "pca.explained_variance_ratio_"
   ]
  },
  {
   "cell_type": "code",
   "execution_count": 50,
   "id": "1ca83e36",
   "metadata": {
    "ExecuteTime": {
     "end_time": "2022-09-13T14:31:51.662472Z",
     "start_time": "2022-09-13T14:31:51.646889Z"
    }
   },
   "outputs": [
    {
     "data": {
      "text/html": [
       "<div>\n",
       "<style scoped>\n",
       "    .dataframe tbody tr th:only-of-type {\n",
       "        vertical-align: middle;\n",
       "    }\n",
       "\n",
       "    .dataframe tbody tr th {\n",
       "        vertical-align: top;\n",
       "    }\n",
       "\n",
       "    .dataframe thead th {\n",
       "        text-align: right;\n",
       "    }\n",
       "</style>\n",
       "<table border=\"1\" class=\"dataframe\">\n",
       "  <thead>\n",
       "    <tr style=\"text-align: right;\">\n",
       "      <th></th>\n",
       "      <th>0</th>\n",
       "      <th>1</th>\n",
       "      <th>2</th>\n",
       "      <th>3</th>\n",
       "      <th>4</th>\n",
       "      <th>5</th>\n",
       "      <th>6</th>\n",
       "      <th>7</th>\n",
       "      <th>8</th>\n",
       "      <th>9</th>\n",
       "      <th>...</th>\n",
       "      <th>43</th>\n",
       "      <th>44</th>\n",
       "      <th>45</th>\n",
       "      <th>46</th>\n",
       "      <th>47</th>\n",
       "      <th>48</th>\n",
       "      <th>49</th>\n",
       "      <th>50</th>\n",
       "      <th>51</th>\n",
       "      <th>52</th>\n",
       "    </tr>\n",
       "  </thead>\n",
       "  <tbody>\n",
       "    <tr>\n",
       "      <th>0</th>\n",
       "      <td>-0.000190</td>\n",
       "      <td>0.025024</td>\n",
       "      <td>-0.181462</td>\n",
       "      <td>0.724666</td>\n",
       "      <td>0.244279</td>\n",
       "      <td>0.127588</td>\n",
       "      <td>0.248022</td>\n",
       "      <td>-0.036921</td>\n",
       "      <td>0.059485</td>\n",
       "      <td>-0.400035</td>\n",
       "      <td>...</td>\n",
       "      <td>0.000000e+00</td>\n",
       "      <td>0.000000e+00</td>\n",
       "      <td>-0.000000e+00</td>\n",
       "      <td>0.000000e+00</td>\n",
       "      <td>-0.000000e+00</td>\n",
       "      <td>0.000000e+00</td>\n",
       "      <td>-0.000000e+00</td>\n",
       "      <td>-0.000000e+00</td>\n",
       "      <td>-0.000000e+00</td>\n",
       "      <td>0.000000e+00</td>\n",
       "    </tr>\n",
       "    <tr>\n",
       "      <th>1</th>\n",
       "      <td>0.001372</td>\n",
       "      <td>-0.982862</td>\n",
       "      <td>0.152536</td>\n",
       "      <td>0.069799</td>\n",
       "      <td>0.040796</td>\n",
       "      <td>0.000176</td>\n",
       "      <td>-0.021222</td>\n",
       "      <td>-0.005695</td>\n",
       "      <td>0.028640</td>\n",
       "      <td>0.000865</td>\n",
       "      <td>...</td>\n",
       "      <td>-7.254355e-18</td>\n",
       "      <td>-1.860436e-17</td>\n",
       "      <td>2.371692e-19</td>\n",
       "      <td>-4.203994e-17</td>\n",
       "      <td>-2.720641e-17</td>\n",
       "      <td>7.616436e-18</td>\n",
       "      <td>2.687676e-17</td>\n",
       "      <td>5.340823e-18</td>\n",
       "      <td>4.269046e-19</td>\n",
       "      <td>1.266526e-17</td>\n",
       "    </tr>\n",
       "    <tr>\n",
       "      <th>2</th>\n",
       "      <td>0.999997</td>\n",
       "      <td>0.001368</td>\n",
       "      <td>-0.000013</td>\n",
       "      <td>-0.000279</td>\n",
       "      <td>0.000088</td>\n",
       "      <td>0.000485</td>\n",
       "      <td>0.000401</td>\n",
       "      <td>-0.001640</td>\n",
       "      <td>-0.000212</td>\n",
       "      <td>-0.000471</td>\n",
       "      <td>...</td>\n",
       "      <td>9.502140e-19</td>\n",
       "      <td>1.077564e-17</td>\n",
       "      <td>1.423005e-17</td>\n",
       "      <td>4.222168e-18</td>\n",
       "      <td>1.165265e-17</td>\n",
       "      <td>4.483578e-18</td>\n",
       "      <td>-8.867696e-20</td>\n",
       "      <td>2.185822e-18</td>\n",
       "      <td>-5.120667e-18</td>\n",
       "      <td>2.036096e-18</td>\n",
       "    </tr>\n",
       "    <tr>\n",
       "      <th>3</th>\n",
       "      <td>-0.000097</td>\n",
       "      <td>0.000023</td>\n",
       "      <td>-0.000275</td>\n",
       "      <td>0.014014</td>\n",
       "      <td>0.004270</td>\n",
       "      <td>0.005242</td>\n",
       "      <td>0.010092</td>\n",
       "      <td>0.009273</td>\n",
       "      <td>0.004832</td>\n",
       "      <td>-0.006015</td>\n",
       "      <td>...</td>\n",
       "      <td>-4.709784e-17</td>\n",
       "      <td>2.274117e-17</td>\n",
       "      <td>2.710504e-17</td>\n",
       "      <td>-5.202993e-17</td>\n",
       "      <td>-6.296896e-17</td>\n",
       "      <td>2.520862e-17</td>\n",
       "      <td>1.420939e-16</td>\n",
       "      <td>1.384795e-16</td>\n",
       "      <td>-9.561427e-17</td>\n",
       "      <td>2.210864e-17</td>\n",
       "    </tr>\n",
       "    <tr>\n",
       "      <th>4</th>\n",
       "      <td>0.000099</td>\n",
       "      <td>0.002453</td>\n",
       "      <td>-0.004344</td>\n",
       "      <td>0.011352</td>\n",
       "      <td>0.017775</td>\n",
       "      <td>0.009158</td>\n",
       "      <td>0.006902</td>\n",
       "      <td>0.026172</td>\n",
       "      <td>-0.007173</td>\n",
       "      <td>-0.001451</td>\n",
       "      <td>...</td>\n",
       "      <td>8.007533e-17</td>\n",
       "      <td>1.686911e-16</td>\n",
       "      <td>3.402857e-18</td>\n",
       "      <td>-7.009393e-17</td>\n",
       "      <td>1.406436e-16</td>\n",
       "      <td>8.142913e-17</td>\n",
       "      <td>6.815205e-17</td>\n",
       "      <td>-6.907439e-17</td>\n",
       "      <td>7.616933e-18</td>\n",
       "      <td>-2.775231e-17</td>\n",
       "    </tr>\n",
       "  </tbody>\n",
       "</table>\n",
       "<p>5 rows × 53 columns</p>\n",
       "</div>"
      ],
      "text/plain": [
       "         0         1         2         3         4         5         6   \\\n",
       "0 -0.000190  0.025024 -0.181462  0.724666  0.244279  0.127588  0.248022   \n",
       "1  0.001372 -0.982862  0.152536  0.069799  0.040796  0.000176 -0.021222   \n",
       "2  0.999997  0.001368 -0.000013 -0.000279  0.000088  0.000485  0.000401   \n",
       "3 -0.000097  0.000023 -0.000275  0.014014  0.004270  0.005242  0.010092   \n",
       "4  0.000099  0.002453 -0.004344  0.011352  0.017775  0.009158  0.006902   \n",
       "\n",
       "         7         8         9   ...            43            44  \\\n",
       "0 -0.036921  0.059485 -0.400035  ...  0.000000e+00  0.000000e+00   \n",
       "1 -0.005695  0.028640  0.000865  ... -7.254355e-18 -1.860436e-17   \n",
       "2 -0.001640 -0.000212 -0.000471  ...  9.502140e-19  1.077564e-17   \n",
       "3  0.009273  0.004832 -0.006015  ... -4.709784e-17  2.274117e-17   \n",
       "4  0.026172 -0.007173 -0.001451  ...  8.007533e-17  1.686911e-16   \n",
       "\n",
       "             45            46            47            48            49  \\\n",
       "0 -0.000000e+00  0.000000e+00 -0.000000e+00  0.000000e+00 -0.000000e+00   \n",
       "1  2.371692e-19 -4.203994e-17 -2.720641e-17  7.616436e-18  2.687676e-17   \n",
       "2  1.423005e-17  4.222168e-18  1.165265e-17  4.483578e-18 -8.867696e-20   \n",
       "3  2.710504e-17 -5.202993e-17 -6.296896e-17  2.520862e-17  1.420939e-16   \n",
       "4  3.402857e-18 -7.009393e-17  1.406436e-16  8.142913e-17  6.815205e-17   \n",
       "\n",
       "             50            51            52  \n",
       "0 -0.000000e+00 -0.000000e+00  0.000000e+00  \n",
       "1  5.340823e-18  4.269046e-19  1.266526e-17  \n",
       "2  2.185822e-18 -5.120667e-18  2.036096e-18  \n",
       "3  1.384795e-16 -9.561427e-17  2.210864e-17  \n",
       "4 -6.907439e-17  7.616933e-18 -2.775231e-17  \n",
       "\n",
       "[5 rows x 53 columns]"
      ]
     },
     "execution_count": 50,
     "metadata": {},
     "output_type": "execute_result"
    }
   ],
   "source": [
    "# View first 5 rows of all principal components\n",
    "pd.DataFrame(pca.components_.T).loc[:4,:]"
   ]
  },
  {
   "cell_type": "code",
   "execution_count": 51,
   "id": "7eb75aad",
   "metadata": {
    "ExecuteTime": {
     "end_time": "2022-09-13T14:32:07.016481Z",
     "start_time": "2022-09-13T14:31:53.392061Z"
    }
   },
   "outputs": [],
   "source": [
    "# Loop through different count of principal components for linear regression\n",
    "for i in range(1, X_train_pc.shape[1]+1):\n",
    "    rmse_score = -1 * cross_val_score(lin_reg, \n",
    "                                      X_train_pc[:,:i], # Use first k principal components\n",
    "                                      y_train, \n",
    "                                      cv=cv, \n",
    "                                      scoring='neg_root_mean_squared_error').mean()\n",
    "    rmse_list.append(rmse_score)"
   ]
  },
  {
   "cell_type": "code",
   "execution_count": 52,
   "id": "04b6abd6",
   "metadata": {
    "ExecuteTime": {
     "end_time": "2022-09-13T14:32:07.157838Z",
     "start_time": "2022-09-13T14:32:07.154090Z"
    }
   },
   "outputs": [
    {
     "data": {
      "text/plain": [
       "[1.0116703215151401,\n",
       " 1.0115254278808663,\n",
       " 1.0109531513687362,\n",
       " 1.007709862660064,\n",
       " 1.0075196727952682,\n",
       " 1.0073862030284237,\n",
       " 1.0070585602566526,\n",
       " 1.0017322663717263,\n",
       " 1.001809370799958,\n",
       " 1.001886276043344,\n",
       " 1.0019222031074009,\n",
       " 0.991961972981336,\n",
       " 0.9918005786956515,\n",
       " 0.9918073915222771,\n",
       " 0.9917928625874814,\n",
       " 0.9918016280438448,\n",
       " 0.9918261418544005,\n",
       " 0.9895914217659149,\n",
       " 0.9868774022762775,\n",
       " 0.9868911519065742,\n",
       " 0.9869427297753666,\n",
       " 0.9868882806323533,\n",
       " 0.9869074997303529,\n",
       " 0.9865127339344315,\n",
       " 0.9863820879374577,\n",
       " 0.9859394349683004,\n",
       " 0.9858288745607228,\n",
       " 0.9858472148533102,\n",
       " 0.9855655590693356,\n",
       " 0.9846037401391345,\n",
       " 0.9845415229971751,\n",
       " 0.9843624622507704,\n",
       " 0.9843483327934092,\n",
       " 0.9844025999181122,\n",
       " 0.9843877110538273,\n",
       " 0.9843774407149152,\n",
       " 0.9843976272546398,\n",
       " 0.9843963180418441,\n",
       " 0.9843962712365506,\n",
       " 0.9843993422578355,\n",
       " 0.9843983256495686,\n",
       " 0.9843984475158359,\n",
       " 0.9843977586245408,\n",
       " 0.9843969803946662,\n",
       " 0.9843971703898514,\n",
       " 0.9843976439291311,\n",
       " 0.9843975289968314,\n",
       " 0.9843976608247909,\n",
       " 0.9843972188693867,\n",
       " 0.9843963807103989,\n",
       " 0.9843969154678082,\n",
       " 0.9843967262832791,\n",
       " 0.9843968206586317]"
      ]
     },
     "execution_count": 52,
     "metadata": {},
     "output_type": "execute_result"
    }
   ],
   "source": [
    "rmse_list"
   ]
  },
  {
   "cell_type": "code",
   "execution_count": 53,
   "id": "b2c4771c",
   "metadata": {
    "ExecuteTime": {
     "end_time": "2022-09-13T14:32:07.728289Z",
     "start_time": "2022-09-13T14:32:07.242152Z"
    },
    "scrolled": true
   },
   "outputs": [
    {
     "data": {
      "image/png": "[encoded data removed]",
      "text/plain": [
       "<Figure size 640x480 with 1 Axes>"
      ]
     },
     "metadata": {},
     "output_type": "display_data"
    },
    {
     "data": {
      "image/png": "[encoded data removed]",
      "text/plain": [
       "<Figure size 640x480 with 1 Axes>"
      ]
     },
     "metadata": {},
     "output_type": "display_data"
    }
   ],
   "source": [
    "# Plot RMSE vs count of principal components used\n",
    "plt.plot(rmse_list, '-o')\n",
    "figure(figsize=(8, 6), dpi=80)\n",
    "plt.xlabel('Number of principal components in regression')\n",
    "plt.ylabel('Cross-Validation RMSE')\n",
    "plt.title('Car production')\n",
    "plt.xlim(xmin=-1);\n",
    "plt.xticks(np.arange(X_train_pc.shape[1]), np.arange(1, X_train_pc.shape[1]+1))\n",
    "plt.axhline(y=lr_score_train, color='g', linestyle='-');"
   ]
  },
  {
   "cell_type": "code",
   "execution_count": 54,
   "id": "2496f10d",
   "metadata": {
    "ExecuteTime": {
     "end_time": "2022-09-13T14:32:15.868158Z",
     "start_time": "2022-09-13T14:32:15.861552Z"
    }
   },
   "outputs": [],
   "source": [
    "# Visually determine optimal number of principal components\n",
    "best_pc_num = 31"
   ]
  },
  {
   "cell_type": "markdown",
   "id": "e3a5900b",
   "metadata": {},
   "source": [
    "#### Predict"
   ]
  },
  {
   "cell_type": "code",
   "execution_count": 55,
   "id": "6ce87168",
   "metadata": {
    "ExecuteTime": {
     "end_time": "2022-09-13T14:32:16.827951Z",
     "start_time": "2022-09-13T14:32:16.806914Z"
    }
   },
   "outputs": [],
   "source": [
    "# Train model on training set\n",
    "lin_reg_pc = LinearRegression().fit(X_train_pc[:,:best_pc_num], y_train)"
   ]
  },
  {
   "cell_type": "code",
   "execution_count": 56,
   "id": "3b389700",
   "metadata": {
    "ExecuteTime": {
     "end_time": "2022-09-13T14:32:17.164292Z",
     "start_time": "2022-09-13T14:32:17.150573Z"
    }
   },
   "outputs": [
    {
     "data": {
      "text/plain": [
       "0.0642121300146209"
      ]
     },
     "execution_count": 56,
     "metadata": {},
     "output_type": "execute_result"
    }
   ],
   "source": [
    "# Get R2 score\n",
    "lin_reg_pc.score(X_train_pc[:,:best_pc_num], y_train)"
   ]
  },
  {
   "cell_type": "code",
   "execution_count": 57,
   "id": "d74c6e3d",
   "metadata": {
    "ExecuteTime": {
     "end_time": "2022-09-13T14:32:17.774176Z",
     "start_time": "2022-09-13T14:32:17.386622Z"
    }
   },
   "outputs": [
    {
     "data": {
      "text/plain": [
       "0.9845415229971751"
      ]
     },
     "execution_count": 57,
     "metadata": {},
     "output_type": "execute_result"
    }
   ],
   "source": [
    "# get kfold values\n",
    "pcr_score_train = -1 * cross_val_score(lin_reg_pc, \n",
    "                                       X_train_pc[:,:best_pc_num], \n",
    "                                       y_train, \n",
    "                                       cv=cv, \n",
    "                                       scoring='neg_root_mean_squared_error').mean()\n",
    "pcr_score_train"
   ]
  },
  {
   "cell_type": "code",
   "execution_count": 59,
   "id": "2a98f2c7",
   "metadata": {
    "ExecuteTime": {
     "end_time": "2022-09-13T14:32:26.722286Z",
     "start_time": "2022-09-13T14:32:26.696098Z"
    }
   },
   "outputs": [
    {
     "data": {
      "text/plain": [
       "(5487, 31)"
      ]
     },
     "execution_count": 59,
     "metadata": {},
     "output_type": "execute_result"
    }
   ],
   "source": [
    "# Get principal components of test set\n",
    "X_test_pc = pca.transform(X_test)[:,:best_pc_num]\n",
    "X_test_pc.shape"
   ]
  },
  {
   "cell_type": "code",
   "execution_count": 60,
   "id": "7b599740",
   "metadata": {
    "ExecuteTime": {
     "end_time": "2022-09-13T14:32:29.102076Z",
     "start_time": "2022-09-13T14:32:29.097355Z"
    }
   },
   "outputs": [
    {
     "data": {
      "text/plain": [
       "1.756910860941592"
      ]
     },
     "execution_count": 60,
     "metadata": {},
     "output_type": "execute_result"
    }
   ],
   "source": [
    "# Predict on test data\n",
    "preds = lin_reg_pc.predict(X_test_pc)\n",
    "pcr_score_test = mean_squared_error(y_test, preds, squared=False)\n",
    "pcr_score_test"
   ]
  },
  {
   "cell_type": "markdown",
   "id": "43e99e6e",
   "metadata": {},
   "source": [
    "### Evaluation"
   ]
  },
  {
   "cell_type": "code",
   "execution_count": 61,
   "id": "fba52253",
   "metadata": {
    "ExecuteTime": {
     "end_time": "2022-09-13T14:32:30.459846Z",
     "start_time": "2022-09-13T14:32:30.453679Z"
    }
   },
   "outputs": [
    {
     "data": {
      "text/html": [
       "<div>\n",
       "<style scoped>\n",
       "    .dataframe tbody tr th:only-of-type {\n",
       "        vertical-align: middle;\n",
       "    }\n",
       "\n",
       "    .dataframe tbody tr th {\n",
       "        vertical-align: top;\n",
       "    }\n",
       "\n",
       "    .dataframe thead th {\n",
       "        text-align: right;\n",
       "    }\n",
       "</style>\n",
       "<table border=\"1\" class=\"dataframe\">\n",
       "  <thead>\n",
       "    <tr style=\"text-align: right;\">\n",
       "      <th></th>\n",
       "      <th>RMSE (Train Set)</th>\n",
       "    </tr>\n",
       "  </thead>\n",
       "  <tbody>\n",
       "    <tr>\n",
       "      <th>Linear Regression</th>\n",
       "      <td>0.984</td>\n",
       "    </tr>\n",
       "    <tr>\n",
       "      <th>Lasso Regression</th>\n",
       "      <td>0.986</td>\n",
       "    </tr>\n",
       "    <tr>\n",
       "      <th>Ridge Regression</th>\n",
       "      <td>0.984</td>\n",
       "    </tr>\n",
       "    <tr>\n",
       "      <th>PCR (31 components)</th>\n",
       "      <td>0.985</td>\n",
       "    </tr>\n",
       "  </tbody>\n",
       "</table>\n",
       "</div>"
      ],
      "text/plain": [
       "                     RMSE (Train Set)\n",
       "Linear Regression               0.984\n",
       "Lasso Regression                0.986\n",
       "Ridge Regression                0.984\n",
       "PCR (31 components)             0.985"
      ]
     },
     "execution_count": 61,
     "metadata": {},
     "output_type": "execute_result"
    }
   ],
   "source": [
    "train_metrics = np.array([round(lr_score_train,3), \n",
    "                          round(lasso_score_train,3), \n",
    "                          round(ridge_score_train,3), \n",
    "                          round(pcr_score_train,3)]) \n",
    "train_metrics = pd.DataFrame(train_metrics, columns=['RMSE (Train Set)'])\n",
    "train_metrics.index = ['Linear Regression', \n",
    "                       'Lasso Regression', \n",
    "                       'Ridge Regression', \n",
    "                       f'PCR ({best_pc_num} components)']\n",
    "train_metrics"
   ]
  },
  {
   "cell_type": "code",
   "execution_count": 62,
   "id": "1b43cb64",
   "metadata": {
    "ExecuteTime": {
     "end_time": "2022-09-13T14:32:31.335337Z",
     "start_time": "2022-09-13T14:32:31.312139Z"
    }
   },
   "outputs": [
    {
     "data": {
      "text/html": [
       "<div>\n",
       "<style scoped>\n",
       "    .dataframe tbody tr th:only-of-type {\n",
       "        vertical-align: middle;\n",
       "    }\n",
       "\n",
       "    .dataframe tbody tr th {\n",
       "        vertical-align: top;\n",
       "    }\n",
       "\n",
       "    .dataframe thead th {\n",
       "        text-align: right;\n",
       "    }\n",
       "</style>\n",
       "<table border=\"1\" class=\"dataframe\">\n",
       "  <thead>\n",
       "    <tr style=\"text-align: right;\">\n",
       "      <th></th>\n",
       "      <th>RMSE (Test Set)</th>\n",
       "    </tr>\n",
       "  </thead>\n",
       "  <tbody>\n",
       "    <tr>\n",
       "      <th>Linear Regression</th>\n",
       "      <td>1.756</td>\n",
       "    </tr>\n",
       "    <tr>\n",
       "      <th>Lasso Regression</th>\n",
       "      <td>1.759</td>\n",
       "    </tr>\n",
       "    <tr>\n",
       "      <th>Ridge Regression</th>\n",
       "      <td>1.757</td>\n",
       "    </tr>\n",
       "    <tr>\n",
       "      <th>PCR (31 components)</th>\n",
       "      <td>1.757</td>\n",
       "    </tr>\n",
       "  </tbody>\n",
       "</table>\n",
       "</div>"
      ],
      "text/plain": [
       "                     RMSE (Test Set)\n",
       "Linear Regression              1.756\n",
       "Lasso Regression               1.759\n",
       "Ridge Regression               1.757\n",
       "PCR (31 components)            1.757"
      ]
     },
     "execution_count": 62,
     "metadata": {},
     "output_type": "execute_result"
    }
   ],
   "source": [
    "test_metrics = np.array([round(lr_score_test,3), \n",
    "                         round(lasso_score_test,3), \n",
    "                         round(ridge_score_test,3), \n",
    "                         round(pcr_score_test,3)]) \n",
    "test_metrics = pd.DataFrame(test_metrics, columns=['RMSE (Test Set)'])\n",
    "test_metrics.index = ['Linear Regression', \n",
    "                      'Lasso Regression', \n",
    "                      'Ridge Regression', \n",
    "                      f'PCR ({best_pc_num} components)']\n",
    "test_metrics"
   ]
  },
  {
   "cell_type": "markdown",
   "id": "7fb5c19d",
   "metadata": {},
   "source": [
    "### Step 3 Insights/Results/Summary:- "
   ]
  },
  {
   "cell_type": "markdown",
   "id": "28701c37",
   "metadata": {},
   "source": [
    "From above result we can clearly see that RMSE of Linear Regression is very compared to other algorithms.\n",
    "for prediction we can use lasso or Ridge Regression as they have minimum RMSE"
   ]
  },
  {
   "cell_type": "markdown",
   "id": "96c833da",
   "metadata": {},
   "source": [
    "# Step 4: Save Model"
   ]
  },
  {
   "cell_type": "markdown",
   "id": "dbdba5f9",
   "metadata": {},
   "source": [
    "#### Goal:- In this step we are going to save our model in pickel format file."
   ]
  },
  {
   "cell_type": "code",
   "execution_count": 32,
   "id": "8d70812b",
   "metadata": {
    "ExecuteTime": {
     "end_time": "2022-10-08T13:10:42.697821Z",
     "start_time": "2022-10-08T13:10:42.347594Z"
    }
   },
   "outputs": [],
   "source": [
    "import pickle\n",
    "pickle.dump(lasso_reg, open('daystotakebuildcar.pkl', 'wb'))"
   ]
  },
  {
   "cell_type": "code",
   "execution_count": 33,
   "id": "2994adf8",
   "metadata": {
    "ExecuteTime": {
     "end_time": "2022-10-08T13:11:05.940126Z",
     "start_time": "2022-10-08T13:11:05.933849Z"
    }
   },
   "outputs": [],
   "source": [
    "import pickle\n",
    "\n",
    "def model_prediction(features, model):\n",
    "    \n",
    "    pickled_model = pickle.load(open(model, 'rb'))\n",
    "    house_price = str((list(pickled_model.predict(features))))\n",
    "    \n",
    "    return str(house_price)"
   ]
  },
  {
   "cell_type": "code",
   "execution_count": 39,
   "id": "0ee4a7c5",
   "metadata": {
    "ExecuteTime": {
     "end_time": "2022-10-08T13:12:16.977010Z",
     "start_time": "2022-10-08T13:12:16.962262Z"
    }
   },
   "outputs": [
    {
     "data": {
      "text/plain": [
       "'[1.2371815315917845]'"
      ]
     },
     "execution_count": 39,
     "metadata": {},
     "output_type": "execute_result"
    }
   ],
   "source": [
    "model_prediction(X_test.iloc[0:1,:],'daystotakebuildcar.pkl')"
   ]
  },
  {
   "cell_type": "markdown",
   "id": "3e886ca0",
   "metadata": {},
   "source": [
    "### Step 4 Insights/Results/Summary:- "
   ]
  },
  {
   "cell_type": "markdown",
   "id": "9af4f33e",
   "metadata": {},
   "source": [
    "in this step we save our model in pickel file format so we can use it now anywhere for prediction purpose"
   ]
  },
  {
   "cell_type": "code",
   "execution_count": null,
   "id": "ddab657e",
   "metadata": {},
   "outputs": [],
   "source": []
  }
 ],
 "metadata": {
  "kernelspec": {
   "display_name": "Python 3 (ipykernel)",
   "language": "python",
   "name": "python3"
  },
  "language_info": {
   "codemirror_mode": {
    "name": "ipython",
    "version": 3
   },
   "file_extension": ".py",
   "mimetype": "text/x-python",
   "name": "python",
   "nbconvert_exporter": "python",
   "pygments_lexer": "ipython3",
   "version": "3.8.10"
  },
  "varInspector": {
   "cols": {
    "lenName": 16,
    "lenType": 16,
    "lenVar": 40
   },
   "kernels_config": {
    "python": {
     "delete_cmd_postfix": "",
     "delete_cmd_prefix": "del ",
     "library": "var_list.py",
     "varRefreshCmd": "print(var_dic_list())"
    },
    "r": {
     "delete_cmd_postfix": ") ",
     "delete_cmd_prefix": "rm(",
     "library": "var_list.r",
     "varRefreshCmd": "cat(var_dic_list()) "
    }
   },
   "types_to_exclude": [
    "module",
    "function",
    "builtin_function_or_method",
    "instance",
    "_Feature"
   ],
   "window_display": false
  }
 },
 "nbformat": 4,
 "nbformat_minor": 5
}
